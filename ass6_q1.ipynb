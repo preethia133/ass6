{
  "nbformat": 4,
  "nbformat_minor": 0,
  "metadata": {
    "colab": {
      "provenance": [],
      "collapsed_sections": []
    },
    "kernelspec": {
      "name": "python3",
      "display_name": "Python 3"
    },
    "language_info": {
      "name": "python"
    }
  },
  "cells": [
    {
      "cell_type": "code",
      "execution_count": 1,
      "metadata": {
        "colab": {
          "base_uri": "https://localhost:8080/"
        },
        "id": "s-9Z0ilJw033",
        "outputId": "31066da3-9299-4fd0-c965-5aaf75b76a26"
      },
      "outputs": [
        {
          "output_type": "stream",
          "name": "stdout",
          "text": [
            "{\"karnataka\": \"bangalore\", \"tamilnadu\": \"chennai\", \"kerala\": \"trivandram\", \"maharashtra\": \"mumbai\", \"bihar\": \"patna\", \"jharkand\": \"ranchi\", \"andhrapradesh\": \"hyderbad\"}\n"
          ]
        }
      ],
      "source": [
        "import json\n",
        "\n",
        "capitals={\n",
        "    \"karnataka\":\"bangalore\",\n",
        "    \"tamilnadu\":\"chennai\",\n",
        "    \"kerala\":\"trivandram\",\n",
        "    \"maharashtra\":\"mumbai\",\n",
        "    \"bihar\":\"patna\",\n",
        "    \"jharkand\":\"ranchi\",\n",
        "    \"andhrapradesh\":\"hyderbad\"\n",
        "}\n",
        "\n",
        "p=json.dumps(capitals)\n",
        "print(p)"
      ]
    }
  ]
}