{
  "nbformat": 4,
  "nbformat_minor": 0,
  "metadata": {
    "colab": {
      "provenance": [],
      "collapsed_sections": []
    },
    "kernelspec": {
      "name": "python3",
      "display_name": "Python 3"
    },
    "language_info": {
      "name": "python"
    }
  },
  "cells": [
    {
      "cell_type": "code",
      "execution_count": 1,
      "metadata": {
        "colab": {
          "base_uri": "https://localhost:8080/"
        },
        "id": "rMwLJ7ID0aaQ",
        "outputId": "3dc1e8e0-ff1a-41e1-e74e-5a5efe0fe20a"
      },
      "outputs": [
        {
          "output_type": "stream",
          "name": "stdout",
          "text": [
            "Dog's name :  Mickel\n",
            "Dog's age :  2\n",
            "coatColor :  Brown\n",
            "height :  3\n",
            "weight :  25\n",
            "coatColor :  Black\n",
            "sex :  masculine\n",
            "training statues  :  trained\n",
            "coatColor :  white\n"
          ]
        }
      ],
      "source": [
        "class Dog:\n",
        "  def __init__(self,name,age,coatColor):\n",
        "    self.name = name \n",
        "    self.age = age \n",
        "    self.coatColor = coatColor\n",
        "\n",
        "  def description(self):\n",
        "    print(\"Dog's name : \",self.name)  \n",
        "    print(\"Dog's age : \",self.age)  \n",
        "\n",
        "  def getinfo(self):\n",
        "    print(\"coatColor : \",self.coatColor)\n",
        "\n",
        "class JackRussellTerrier(Dog):\n",
        "  def __init__(self,name,age,coatColor,height,weight):\n",
        "    super().__init__(name,age,coatColor) \n",
        "    self.height = height\n",
        "    self.weight = weight  \n",
        "\n",
        "  def heightjack(self):\n",
        "    print(\"height : \",self.height) \n",
        "\n",
        "\n",
        "  def weightjack(self):\n",
        "    print(\"weight : \",self.weight)\n",
        "\n",
        "\n",
        "class Bulldog(Dog):\n",
        "  def __init__ (self,sex,training_status,name,age,coatColor):\n",
        "    super().__init__(name,age,coatColor)\n",
        "    self.sex = sex\n",
        "    self.training_status = training_status\n",
        "\n",
        "\n",
        "  def identity(self):\n",
        "    print(\"sex : \",self.sex) \n",
        "\n",
        "  def training(self):\n",
        "    print(\"training statues  : \",self.training_status) \n",
        "\n",
        "\n",
        "\n",
        "\n",
        "dogy = Dog(\"Mickel\",2,\"Brown\")  \n",
        "dogy.description()\n",
        "dogy.getinfo()\n",
        "dg = JackRussellTerrier(\"Mongo\",4,\"Black\",3,25) \n",
        "dg.heightjack()\n",
        "dg.weightjack()\n",
        "dg.getinfo()\n",
        "bull = Bulldog('masculine','trained','bulldog',6,'white')\n",
        "bull.identity()\n",
        "bull.training()\n",
        "bull.getinfo()"
      ]
    }
  ]
}