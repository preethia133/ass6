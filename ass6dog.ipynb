{
  "nbformat": 4,
  "nbformat_minor": 0,
  "metadata": {
    "colab": {
      "provenance": [],
      "collapsed_sections": []
    },
    "kernelspec": {
      "name": "python3",
      "display_name": "Python 3"
    },
    "language_info": {
      "name": "python"
    }
  },
  "cells": [
    {
      "cell_type": "code",
      "execution_count": null,
      "metadata": {
        "id": "OrSlb6Gn3lqI"
      },
      "outputs": [],
      "source": [
        "class Dog:\n",
        "  def __init__(self,name,age,coatColor):\n",
        "    self.name = name \n",
        "    self.age = age \n",
        "    self.coatColor = coatColor\n",
        "\n",
        "  def description(self):\n",
        "    print(\"Dog's name : \",self.name)  \n",
        "    print(\"Dog's age : \",self.age)  \n",
        "\n",
        "  def getinfo(self):\n",
        "    print(\"coatColor : \",self.coatColor)\n",
        "\n",
        "class JackRussellTerrier(Dog):\n",
        "  def __init__(self,name,age,coatColor,height,weight):\n",
        "    super().__init__(name,age,coatColor) \n",
        "    self.height = height\n",
        "    self.weight = weight  \n",
        "\n",
        "  def heightjack(self):\n",
        "    print(\"height : \",self.height) \n",
        "\n",
        "\n",
        "  def weightjack(self):\n",
        "    print(\"weight : \",self.weight)\n",
        "\n",
        "\n",
        "class Bulldog(Dog):\n",
        "  def __init__ (self,sex,training_status,name,age,coatColor):\n",
        "    super().__init__(name,age,coatColor)\n",
        "    self.sex = sex\n",
        "    self.training_status = training_status\n",
        "\n",
        "\n",
        "  def identity(self):\n",
        "    print(\"sex : \",self.sex) \n",
        "\n",
        "  def training(self):\n",
        "    print(\"training statues  : \",self.training_status) \n",
        "\n",
        "\n",
        "\n",
        "\n",
        "dogy = Dog(\"Mickel\",2,\"Brown\")  \n",
        "dogy.description()\n",
        "dogy.getinfo()\n",
        "dg = JackRussellTerrier(\"Mongo\",4,\"Black\",3,25) \n",
        "dg.heightjack()\n",
        "dg.weightjack()\n",
        "dg.getinfo()\n",
        "bull = Bulldog('masculine','trained','bulldog',6,'white')\n",
        "bull.identity()\n",
        "bull.training()\n",
        "bull.getinfo()"
      ]
    }
  ]
}