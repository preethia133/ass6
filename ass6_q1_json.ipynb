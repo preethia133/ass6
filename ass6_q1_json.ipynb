{
  "nbformat": 4,
  "nbformat_minor": 0,
  "metadata": {
    "colab": {
      "provenance": [],
      "collapsed_sections": []
    },
    "kernelspec": {
      "name": "python3",
      "display_name": "Python 3"
    },
    "language_info": {
      "name": "python"
    }
  },
  "cells": [
    {
      "cell_type": "code",
      "execution_count": 1,
      "metadata": {
        "id": "cWgI5N2eqCda"
      },
      "outputs": [],
      "source": [
        "Employees={}\n",
        "\n",
        "Employees['Pinky']={\n",
        "  'name': 'Pinky',\n",
        "  'dob':5/10/2000,\n",
        "  'height':'5.2',\n",
        "  'city':'bangalore',\n",
        "  'state':'karnataka'\n",
        "}\n",
        "Employees['Aniket']={\n",
        "    'name':'Aniket',\n",
        "    'dob':5/9/2001,\n",
        "    'height':'5.5',\n",
        "    'city':'pune',\n",
        "    'state':'maharashtra'\n",
        "}\n",
        "Employees['Preethi']={\n",
        "    'name':'Preethi',\n",
        "    'dob':'6/8/2002',\n",
        "    'height':'5.0',\n",
        "    'city':'koppal',\n",
        "    'state':'karnataka'\n",
        "}\n",
        "Employees['Prakash']={\n",
        "    'name':'Prakash',\n",
        "    'dob':'13/3/1990',\n",
        "    'height':'5.8',\n",
        "    'city':'hospet',\n",
        "    'state':'karnataka'\n",
        "}\n",
        "Employees['Prabha']={\n",
        "    'name':'Prabha',\n",
        "    'dob':'12/2/1996',\n",
        "    'height':'5.1',\n",
        "    'city':'pune',\n",
        "    'state':'maharashtra'\n",
        "}"
      ]
    },
    {
      "cell_type": "code",
      "source": [
        "import json\n",
        "s=json.dumps(Employees)\n",
        "print(s)\n",
        "\n",
        "with open(\"D:\\\\employees.json.txt\",\"w\") as f:\n",
        "  f.write(s)"
      ],
      "metadata": {
        "colab": {
          "base_uri": "https://localhost:8080/"
        },
        "id": "szUTQr82yMLl",
        "outputId": "79428e32-3bdc-457a-81f5-eb621b9307f1"
      },
      "execution_count": 2,
      "outputs": [
        {
          "output_type": "stream",
          "name": "stdout",
          "text": [
            "{\"Pinky\": {\"name\": \"Pinky\", \"dob\": 0.00025, \"height\": \"5.2\", \"city\": \"bangalore\", \"state\": \"karnataka\"}, \"Aniket\": {\"name\": \"Aniket\", \"dob\": 0.00027763895829862847, \"height\": \"5.5\", \"city\": \"pune\", \"state\": \"maharashtra\"}, \"Preethi\": {\"name\": \"Preethi\", \"dob\": \"6/8/2002\", \"height\": \"5.0\", \"city\": \"koppal\", \"state\": \"karnataka\"}, \"Prakash\": {\"name\": \"Prakash\", \"dob\": \"13/3/1990\", \"height\": \"5.8\", \"city\": \"hospet\", \"state\": \"karnataka\"}, \"Prabha\": {\"name\": \"Prabha\", \"dob\": \"12/2/1996\", \"height\": \"5.1\", \"city\": \"pune\", \"state\": \"maharashtra\"}}\n"
          ]
        }
      ]
    }
  ]
}