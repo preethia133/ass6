{
  "nbformat": 4,
  "nbformat_minor": 0,
  "metadata": {
    "colab": {
      "provenance": [],
      "collapsed_sections": []
    },
    "kernelspec": {
      "name": "python3",
      "display_name": "Python 3"
    },
    "language_info": {
      "name": "python"
    }
  },
  "cells": [
    {
      "cell_type": "code",
      "execution_count": 1,
      "metadata": {
        "colab": {
          "base_uri": "https://localhost:8080/"
        },
        "id": "_RG1f4LAztqH",
        "outputId": "b2ee4d7a-06bc-4946-d3c9-dc730d53a9b8"
      },
      "outputs": [
        {
          "output_type": "stream",
          "name": "stdout",
          "text": [
            "Name:  Aishu\n",
            "Age:  2\n",
            "Coat Colour:  White\n",
            "Gender:  female\n",
            "Breed:  Labrador\n",
            "Name:  Aishu\n",
            "Age:  2\n",
            "Coat Colour:  White\n",
            "Origin:  England\n",
            "Height:  4 feet\n"
          ]
        }
      ],
      "source": [
        "class Dog:\n",
        "\n",
        "  def __init__(self,name,age,coatColour):\n",
        "    self.name=name\n",
        "    self.age=age\n",
        "    self.coatColour=coatColour\n",
        "\n",
        "  def description(self):\n",
        "    print(\"Name: \",self.name )\n",
        "    print(\"Age: \",self.age)\n",
        "\n",
        "  def get_info(self):\n",
        "    print(\"Coat Colour: \",self.coatColour)\n",
        "\n",
        "class JackRussellTerrier(Dog):\n",
        "  def __init__(self,name,age,coatColour,gender,breed):\n",
        "    self.gender=gender\n",
        "    self.breed=breed\n",
        "    super().__init__(name, age, coatColour)\n",
        "  \n",
        "  def sex(self):\n",
        "    print(\"Gender: \",self.gender)\n",
        "\n",
        "  def variety(self):\n",
        "    print(\"Breed: \",self.breed)\n",
        "\n",
        "class Bulldog(Dog):\n",
        "  def __init__(self,name,age,coatColour,origin,height):\n",
        "    self.origin=origin\n",
        "    self.height=height\n",
        "    super().__init__(name, age, coatColour)\n",
        "\n",
        "  def country(self):\n",
        "    print(\"Origin: \",self.origin)\n",
        "\n",
        "  def physique(self):\n",
        "    print(\"Height: \",self.height)\n",
        "\n",
        "\n",
        "\n",
        "obj=JackRussellTerrier(\"Aishu\",2,\"White\",\"female\",\"Labrador\")\n",
        "obj.description()\n",
        "obj.get_info()\n",
        "obj.sex()\n",
        "obj.variety()\n",
        "\n",
        "obj1=Bulldog(\"Aishu\",2,\"White\",\"England\",\"4 feet\")\n",
        "obj1.description()\n",
        "obj1.get_info()\n",
        "obj1.country()\n",
        "obj1.physique()"
      ]
    }
  ]
}